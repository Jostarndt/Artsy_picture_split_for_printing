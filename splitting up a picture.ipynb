{
 "cells": [
  {
   "cell_type": "markdown",
   "metadata": {},
   "source": [
    "# Splitting up a picture\n",
    "\n",
    "This project can take a picture and split it up into several pieces (of adjustable format) to pin them up on a wall in an poster-like way which looks like the instagram-wall.\n",
    "All you need is to enter the format in terms of pictures e.g. (3,10) for 30 pictures in total as shown in the example. \n",
    "This is all of simple design purposes. \n"
   ]
  },
  {
   "cell_type": "markdown",
   "metadata": {},
   "source": [
    "# Example\n",
    "\n",
    "First we take this picture:\n",
    "\n",
    "![texte](testbild.jpg)\n",
    "\n",
    "and split it up into several individual pictures, which can be ordered and put onto a wall. The preview of the result looks like this:\n",
    "\n",
    "![texte](preview.jpg)\n",
    "\n",
    "\n",
    "\n",
    "## Users manual:\n",
    "### Part I\n",
    "\n",
    "1. Put this project into a folder which also contains the picture you want to have formatted.\n",
    "2. Rename the picture to \"testbild.jpg\"\n",
    "3. Change the format of the single output pictures in the function \"get_full_size()\". Default ist 10x15 cm. The Format depends on your printer/printing store."
   ]
  },
  {
   "cell_type": "code",
   "execution_count": 1,
   "metadata": {},
   "outputs": [],
   "source": [
    "import matplotlib\n",
    "from PIL import Image\n",
    "import os\n",
    "import numpy as np\n",
    "import cv2"
   ]
  },
  {
   "cell_type": "code",
   "execution_count": 2,
   "metadata": {},
   "outputs": [],
   "source": [
    "def crop(path, input, height, width, spacing):\n",
    "    im = Image.open(input)\n",
    "    imgwidth, imgheight = im.size\n",
    "    k = 1\n",
    "    for i in range(0,imgheight,height + spacing):\n",
    "        for j in range(0,imgwidth,width + spacing):\n",
    "            box = (j, i, j+width, i+height)\n",
    "            a = im.crop(box)\n",
    "            try:\n",
    "                a.save(os.path.join(path,\"IMG-%s.jpg\" % k))\n",
    "            except:\n",
    "                print(os.path.join(path,\"PNG\",\"IMG-%s.jpg\" % k))\n",
    "                #pass\n",
    "            k +=1\n",
    "            \n",
    "#crop(\"/home/jost/Dokumente/programmieren/dot_art/blub\",\"cutted.jpg\", 712, 1069, 356)"
   ]
  },
  {
   "cell_type": "code",
   "execution_count": 4,
   "metadata": {},
   "outputs": [
    {
     "data": {
      "text/plain": [
       "(75, 40)"
      ]
     },
     "execution_count": 4,
     "metadata": {},
     "output_type": "execute_result"
    }
   ],
   "source": [
    "#enter here the width and height in amount of pictures and the corridor inbetween in cm\n",
    "#output is width and heigt in cm\n",
    "def get_full_size(width, height, corridor):\n",
    "    dm_height = 10\n",
    "    dm_width = 15\n",
    "    return (width * dm_width + (width -1) * corridor , height * dm_height + (height -1) * corridor)\n",
    "\n",
    "get_full_size(4, 3, 5)"
   ]
  },
  {
   "cell_type": "code",
   "execution_count": 5,
   "metadata": {},
   "outputs": [
    {
     "data": {
      "text/plain": [
       "(5347, 2851.733333333333)"
      ]
     },
     "execution_count": 5,
     "metadata": {},
     "output_type": "execute_result"
    }
   ],
   "source": [
    "#enter aim_width and height in cm and actual_width in pixels (or in cm)\n",
    "#returns the width and height you need to cut the picture to\n",
    "def get_format(aim_width, aim_height, actual_width, actual_height):\n",
    "    aim_ratio = aim_width / aim_height\n",
    "    actual_ratio = actual_width / actual_height\n",
    "    if aim_ratio > actual_ratio:\n",
    "        actual_height = actual_width / aim_ratio\n",
    "    else:\n",
    "        actual_width = actual_height * aim_ratio\n",
    "    return(actual_width, actual_height)\n",
    "\n",
    "get_format(75, 40, 5347, 3567)"
   ]
  },
  {
   "cell_type": "code",
   "execution_count": 6,
   "metadata": {},
   "outputs": [
    {
     "data": {
      "text/plain": [
       "(1069, 712, 356)"
      ]
     },
     "execution_count": 6,
     "metadata": {},
     "output_type": "execute_result"
    }
   ],
   "source": [
    "#return the size of a dm-picture in pixels: format: width, height, corridor\n",
    "#input get_full_size() and get_format\n",
    "def size_of_panel(full_width, full_height, pixel_width, pixel_height, corridor):\n",
    "    dm_height = 10\n",
    "    dm_width =15\n",
    "    return (int(dm_width/full_width * pixel_width), int(dm_height/full_height * pixel_height), int(corridor/full_height * pixel_height))\n",
    "\n",
    "size_of_panel(75,40, 5347, 2851, 5)"
   ]
  },
  {
   "cell_type": "code",
   "execution_count": 7,
   "metadata": {},
   "outputs": [],
   "source": [
    "#param between 0 and 1 determines where the resizing will take place (0.5 is centered)\n",
    "def auto_resize(path, param, aim_width, aim_height):\n",
    "    im = Image.open(path)\n",
    "    org_size = im.size\n",
    "    cutted_size = get_format (aim_width, aim_height, org_size[0], org_size[1])\n",
    "    diff_w =org_size[0] - cutted_size[0]\n",
    "    diff_h =org_size[1] - cutted_size[1]\n",
    "    box = (int(diff_w * param), int(diff_h *param), int(cutted_size[0] + param * diff_w), int(cutted_size[1] + param* diff_h))\n",
    "    a = im.crop(box)\n",
    "    a.save(\"cutted.jpg\")\n",
    "    \n",
    "#path, param between 0 and 1 (where to place the box), size of the full piece in cm (get_full_size())\n",
    "\n",
    "path = \"testbild.jpg\"\n",
    "auto_resize(path, 0.5, 75, 40)"
   ]
  },
  {
   "cell_type": "code",
   "execution_count": 8,
   "metadata": {},
   "outputs": [],
   "source": [
    "def preview(path, height, width, spacing):\n",
    "    im = Image.open(path)\n",
    "    imgwidth, imgheight = im.size\n",
    "    #Vertical stripes\n",
    "    for i in range(0,imgheight - height - spacing,height + spacing):\n",
    "        #for z in range (spacing):\n",
    "        #    im.putpixel((100,i+z+height),(255,20,147))\n",
    "        for x in range(imgwidth):\n",
    "            for z in range (spacing):\n",
    "                im.putpixel((x,i+z+height),(255,20,147))\n",
    "    #horizontal stripes            \n",
    "    for j in range(0,imgwidth - width -spacing,width + spacing):\n",
    "        for x in range (imgheight):\n",
    "            for z in range(spacing):\n",
    "                im.putpixel((j+z+width,x),(255,20,147))\n",
    "    im.save(\"preview.jpg\")\n",
    "    \n",
    "path = \"cutted.jpg\"\n",
    "preview(path, 712, 1069, 356)"
   ]
  },
  {
   "cell_type": "markdown",
   "metadata": {},
   "source": [
    "## Users Manual \n",
    "### part II\n",
    "\n",
    "Keep adjusting until you like the preview-picture which is now saved in the same folder. If you are happy with the result:\n",
    "\n",
    "   4. uncomment the line \"#crop(...\" in the function test_run()\n",
    "   6. Run it again to reveice the isolated pictures\n",
    "   7. Print them. Pin them onto your wall. Be Happy."
   ]
  },
  {
   "cell_type": "code",
   "execution_count": 10,
   "metadata": {},
   "outputs": [],
   "source": [
    "original_path = \"testbild.jpg\"\n",
    "def test_run(original, height, width, corridor):\n",
    "    test = Image.open(original)\n",
    "    cutted_format = get_format(get_full_size(width, height, corridor)[0], get_full_size(width, height, corridor)[1],test.size[0], test.size[1])\n",
    "    size = size_of_panel(get_full_size(width, height, corridor)[0], get_full_size(width, height, corridor)[1],cutted_format[0],cutted_format[1], corridor)\n",
    "    auto_resize(original, 0.5, get_full_size(width, height, corridor)[0], get_full_size(width, height, corridor)[1])\n",
    "    preview(\"cutted.jpg\", size[1], size[0], size[2])\n",
    "    #crop(\"/home/jost/Dokumente/programmieren/dot_art/print\", \"cutted.jpg\", size[1], size[0], size[2])\n",
    "    \n",
    "test_run(original_path, 3,10,1)"
   ]
  },
  {
   "cell_type": "code",
   "execution_count": null,
   "metadata": {},
   "outputs": [],
   "source": []
  }
 ],
 "metadata": {
  "kernelspec": {
   "display_name": "Python 3",
   "language": "python",
   "name": "python3"
  },
  "language_info": {
   "codemirror_mode": {
    "name": "ipython",
    "version": 3
   },
   "file_extension": ".py",
   "mimetype": "text/x-python",
   "name": "python",
   "nbconvert_exporter": "python",
   "pygments_lexer": "ipython3",
   "version": "3.6.9"
  }
 },
 "nbformat": 4,
 "nbformat_minor": 2
}
